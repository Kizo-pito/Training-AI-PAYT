{
 "cells": [
  {
   "cell_type": "code",
   "id": "initial_id",
   "metadata": {
    "collapsed": true,
    "ExecuteTime": {
     "end_time": "2025-08-12T14:32:20.936774Z",
     "start_time": "2025-08-12T14:32:20.933006Z"
    }
   },
   "source": [
    "from sklearn import neighbors, datasets\n",
    "import numpy as np\n",
    "from sklearn.model_selection import train_test_split\n",
    "from sklearn.metrics import accuracy_score\n",
    "from sklearn.preprocessing import StandardScaler"
   ],
   "outputs": [],
   "execution_count": 175
  },
  {
   "metadata": {},
   "cell_type": "markdown",
   "source": "# Dataset",
   "id": "2c4302c78732987d"
  },
  {
   "metadata": {},
   "cell_type": "markdown",
   "source": "## Load data",
   "id": "2e068d94419fd117"
  },
  {
   "metadata": {
    "ExecuteTime": {
     "end_time": "2025-08-12T13:46:07.072983Z",
     "start_time": "2025-08-12T13:46:07.066997Z"
    }
   },
   "cell_type": "code",
   "source": [
    "df = datasets.load_iris()\n",
    "X = df.data\n",
    "y = df.target\n",
    "print('Number of classes: %d' %len(np.unique(y)))\n",
    "print('Number of data points: %d' %len(y))"
   ],
   "id": "27b05ad73c0b64b8",
   "outputs": [
    {
     "name": "stdout",
     "output_type": "stream",
     "text": [
      "Number of classes: 3\n",
      "Number of data points: 150\n"
     ]
    }
   ],
   "execution_count": 3
  },
  {
   "metadata": {},
   "cell_type": "markdown",
   "source": "# K-nearest neighbors sử dụng thư viện có sẵn",
   "id": "d826232d3a950011"
  },
  {
   "metadata": {},
   "cell_type": "markdown",
   "source": "## k = 1",
   "id": "b94fc3ff51184dd0"
  },
  {
   "metadata": {
    "ExecuteTime": {
     "end_time": "2025-08-12T14:35:00.118858Z",
     "start_time": "2025-08-12T14:35:00.108560Z"
    }
   },
   "cell_type": "code",
   "source": [
    "X_train, X_test, y_train, y_test = train_test_split(X, y, test_size=0.2)\n",
    "model = neighbors.KNeighborsClassifier(n_neighbors = 1, p = 2)\n",
    "model.fit(X_train, y_train)\n",
    "y_pred = model.predict(X_test)\n",
    "\n",
    "print (\"Accuracy of 1NN: %.2f %%\" %(100*accuracy_score(y_test, y_pred)))"
   ],
   "id": "8aacc48f9a4c6919",
   "outputs": [
    {
     "name": "stdout",
     "output_type": "stream",
     "text": [
      "Accuracy of 1NN: 90.00 %\n"
     ]
    }
   ],
   "execution_count": 349
  },
  {
   "metadata": {},
   "cell_type": "markdown",
   "source": "## k = 10",
   "id": "157f61b0b69a374f"
  },
  {
   "metadata": {
    "ExecuteTime": {
     "end_time": "2025-08-12T14:35:05.988939Z",
     "start_time": "2025-08-12T14:35:05.979810Z"
    }
   },
   "cell_type": "code",
   "source": [
    "model = neighbors.KNeighborsClassifier(n_neighbors = 10, p = 2)\n",
    "model.fit(X_train, y_train)\n",
    "y_pred = model.predict(X_test)\n",
    "\n",
    "print (\"Accuracy of 1NN: %.2f %%\" %(100*accuracy_score(y_test, y_pred)))"
   ],
   "id": "832895f810b3beb0",
   "outputs": [
    {
     "name": "stdout",
     "output_type": "stream",
     "text": [
      "Accuracy of 1NN: 96.67 %\n"
     ]
    }
   ],
   "execution_count": 362
  },
  {
   "metadata": {},
   "cell_type": "markdown",
   "source": "## k = 10, trọng số theo khoảng cách",
   "id": "4b4561112663c563"
  },
  {
   "metadata": {
    "ExecuteTime": {
     "end_time": "2025-08-12T14:35:08.847093Z",
     "start_time": "2025-08-12T14:35:08.837250Z"
    }
   },
   "cell_type": "code",
   "source": [
    "model = neighbors.KNeighborsClassifier(n_neighbors = 10, p = 2, weights = 'distance')\n",
    "model.fit(X_train, y_train)\n",
    "y_pred = model.predict(X_test)\n",
    "\n",
    "print (\"Accuracy of 1NN: %.2f %%\" %(100*accuracy_score(y_test, y_pred)))"
   ],
   "id": "4702e9ab9368563e",
   "outputs": [
    {
     "name": "stdout",
     "output_type": "stream",
     "text": [
      "Accuracy of 1NN: 93.33 %\n"
     ]
    }
   ],
   "execution_count": 367
  }
 ],
 "metadata": {
  "kernelspec": {
   "display_name": "Python 3",
   "language": "python",
   "name": "python3"
  },
  "language_info": {
   "codemirror_mode": {
    "name": "ipython",
    "version": 2
   },
   "file_extension": ".py",
   "mimetype": "text/x-python",
   "name": "python",
   "nbconvert_exporter": "python",
   "pygments_lexer": "ipython2",
   "version": "2.7.6"
  }
 },
 "nbformat": 4,
 "nbformat_minor": 5
}
