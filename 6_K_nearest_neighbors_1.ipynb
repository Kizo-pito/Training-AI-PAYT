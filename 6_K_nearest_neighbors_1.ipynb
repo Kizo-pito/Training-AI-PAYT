{
 "cells": [
  {
   "cell_type": "code",
   "id": "initial_id",
   "metadata": {
    "collapsed": true,
    "ExecuteTime": {
     "end_time": "2025-08-14T05:42:21.908115Z",
     "start_time": "2025-08-14T05:42:21.060863Z"
    }
   },
   "source": [
    "from sklearn import neighbors, datasets\n",
    "import numpy as np\n",
    "from sklearn.model_selection import train_test_split\n",
    "from sklearn.metrics import accuracy_score\n",
    "from sklearn.preprocessing import StandardScaler\n",
    "from collections import Counter"
   ],
   "outputs": [],
   "execution_count": 1
  },
  {
   "metadata": {},
   "cell_type": "markdown",
   "source": "# Dataset",
   "id": "2c4302c78732987d"
  },
  {
   "metadata": {},
   "cell_type": "markdown",
   "source": "## Load data",
   "id": "2e068d94419fd117"
  },
  {
   "metadata": {
    "ExecuteTime": {
     "end_time": "2025-08-14T05:42:22.092690Z",
     "start_time": "2025-08-14T05:42:22.085114Z"
    }
   },
   "cell_type": "code",
   "source": [
    "df = datasets.load_iris()\n",
    "X = df.data\n",
    "y = df.target\n",
    "print('Number of classes: %d' %len(np.unique(y)))\n",
    "print('Number of data points: %d' %len(y))\n",
    "X_train, X_test, y_train, y_test = train_test_split(X, y, test_size=0.2)"
   ],
   "id": "27b05ad73c0b64b8",
   "outputs": [
    {
     "name": "stdout",
     "output_type": "stream",
     "text": [
      "Number of classes: 3\n",
      "Number of data points: 150\n"
     ]
    }
   ],
   "execution_count": 2
  },
  {
   "metadata": {},
   "cell_type": "markdown",
   "source": "# Không sử dụng thư viện",
   "id": "5f2f40e6dc2cc390"
  },
  {
   "metadata": {
    "ExecuteTime": {
     "end_time": "2025-08-14T05:42:22.113754Z",
     "start_time": "2025-08-14T05:42:22.110380Z"
    }
   },
   "cell_type": "code",
   "source": [
    "def euclidean_distance(point1, point2):\n",
    "    return np.sqrt(np.sum((np.array(point1) - np.array(point2))**2))"
   ],
   "id": "14aa37e3cf3d1e04",
   "outputs": [],
   "execution_count": 3
  },
  {
   "metadata": {
    "ExecuteTime": {
     "end_time": "2025-08-14T05:42:22.168404Z",
     "start_time": "2025-08-14T05:42:22.161852Z"
    }
   },
   "cell_type": "code",
   "source": [
    "def knn_predict(training_data, training_labels, test_point, k):\n",
    "    distances = []\n",
    "    for i in range(len(training_data)):\n",
    "        dist = euclidean_distance(test_point, training_data[i])\n",
    "        distances.append((dist, training_labels[i]))\n",
    "    distances.sort(key=lambda x: x[0])\n",
    "    k_nearest_labels = [label for _, label in distances[:k]]\n",
    "    return Counter(k_nearest_labels).most_common(1)[0][0]"
   ],
   "id": "5fd9c7e9b5b241f",
   "outputs": [],
   "execution_count": 4
  },
  {
   "metadata": {
    "ExecuteTime": {
     "end_time": "2025-08-14T05:42:22.244205Z",
     "start_time": "2025-08-14T05:42:22.202147Z"
    }
   },
   "cell_type": "code",
   "source": [
    "y_pred = [knn_predict(X_train, y_train, x, k=3) for x in X_test]\n",
    "\n",
    "# Đánh giá độ chính xác\n",
    "print(\"Accuracy: %.2f%%\" % (100 * accuracy_score(y_test, y_pred)))\n"
   ],
   "id": "3ae1376ab64f44da",
   "outputs": [
    {
     "name": "stdout",
     "output_type": "stream",
     "text": [
      "Accuracy: 90.00%\n"
     ]
    }
   ],
   "execution_count": 5
  },
  {
   "metadata": {},
   "cell_type": "markdown",
   "source": "# K-nearest neighbors sử dụng thư viện có sẵn",
   "id": "d826232d3a950011"
  },
  {
   "metadata": {},
   "cell_type": "markdown",
   "source": "## k = 1",
   "id": "b94fc3ff51184dd0"
  },
  {
   "metadata": {
    "ExecuteTime": {
     "end_time": "2025-08-14T05:42:22.295248Z",
     "start_time": "2025-08-14T05:42:22.285594Z"
    }
   },
   "cell_type": "code",
   "source": [
    "model = neighbors.KNeighborsClassifier(n_neighbors = 1, p = 2)\n",
    "model.fit(X_train, y_train)\n",
    "y_pred = model.predict(X_test)\n",
    "\n",
    "print (\"Accuracy of 1NN: %.2f %%\" %(100*accuracy_score(y_test, y_pred)))"
   ],
   "id": "8aacc48f9a4c6919",
   "outputs": [
    {
     "name": "stdout",
     "output_type": "stream",
     "text": [
      "Accuracy of 1NN: 90.00 %\n"
     ]
    }
   ],
   "execution_count": 6
  },
  {
   "metadata": {},
   "cell_type": "markdown",
   "source": "## k = 10",
   "id": "157f61b0b69a374f"
  },
  {
   "metadata": {
    "ExecuteTime": {
     "end_time": "2025-08-14T05:44:42.021379Z",
     "start_time": "2025-08-14T05:44:42.010205Z"
    }
   },
   "cell_type": "code",
   "source": [
    "model = neighbors.KNeighborsClassifier(n_neighbors = 12, p = 2)\n",
    "model.fit(X_train, y_train)\n",
    "y_pred = model.predict(X_test)\n",
    "\n",
    "print (\"Accuracy of 1NN: %.2f %%\" %(100*accuracy_score(y_test, y_pred)))"
   ],
   "id": "832895f810b3beb0",
   "outputs": [
    {
     "name": "stdout",
     "output_type": "stream",
     "text": [
      "Accuracy of 1NN: 86.67 %\n"
     ]
    }
   ],
   "execution_count": 51
  },
  {
   "metadata": {},
   "cell_type": "markdown",
   "source": "## k = 10, trọng số theo khoảng cách",
   "id": "4b4561112663c563"
  },
  {
   "metadata": {
    "ExecuteTime": {
     "end_time": "2025-08-14T05:44:46.935682Z",
     "start_time": "2025-08-14T05:44:46.926647Z"
    }
   },
   "cell_type": "code",
   "source": [
    "model = neighbors.KNeighborsClassifier(n_neighbors = 12, p = 2, weights = 'distance')\n",
    "model.fit(X_train, y_train)\n",
    "y_pred = model.predict(X_test)\n",
    "\n",
    "print (\"Accuracy of 1NN: %.2f %%\" %(100*accuracy_score(y_test, y_pred)))"
   ],
   "id": "4702e9ab9368563e",
   "outputs": [
    {
     "name": "stdout",
     "output_type": "stream",
     "text": [
      "Accuracy of 1NN: 86.67 %\n"
     ]
    }
   ],
   "execution_count": 53
  },
  {
   "metadata": {},
   "cell_type": "code",
   "outputs": [],
   "execution_count": null,
   "source": "",
   "id": "60e6fe763d73c354"
  }
 ],
 "metadata": {
  "kernelspec": {
   "display_name": "Python 3",
   "language": "python",
   "name": "python3"
  },
  "language_info": {
   "codemirror_mode": {
    "name": "ipython",
    "version": 2
   },
   "file_extension": ".py",
   "mimetype": "text/x-python",
   "name": "python",
   "nbconvert_exporter": "python",
   "pygments_lexer": "ipython2",
   "version": "2.7.6"
  }
 },
 "nbformat": 4,
 "nbformat_minor": 5
}
