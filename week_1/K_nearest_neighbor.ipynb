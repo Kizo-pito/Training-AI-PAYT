{
 "cells": [
  {
   "cell_type": "code",
   "id": "initial_id",
   "metadata": {
    "collapsed": true,
    "ExecuteTime": {
     "end_time": "2025-08-17T11:39:01.775622Z",
     "start_time": "2025-08-17T11:39:00.489492Z"
    }
   },
   "source": [
    "import numpy as np\n",
    "import pandas as pd\n",
    "import matplotlib.pyplot as plt\n",
    "from sklearn.model_selection import train_test_split\n",
    "from sklearn.preprocessing import LabelEncoder"
   ],
   "outputs": [],
   "execution_count": 1
  },
  {
   "metadata": {},
   "cell_type": "markdown",
   "source": "### KNN from scratch",
   "id": "fb667075e47156d6"
  },
  {
   "metadata": {
    "ExecuteTime": {
     "end_time": "2025-08-17T11:39:01.955819Z",
     "start_time": "2025-08-17T11:39:01.949680Z"
    }
   },
   "cell_type": "code",
   "source": [
    "class KNearestNeighbors:\n",
    "    def __init__(self, k=1):\n",
    "        self.k = k\n",
    "        self.data = None\n",
    "        self.labels = None\n",
    "\n",
    "    def fit(self, data, labels):\n",
    "        self.data = data\n",
    "        self.labels = labels\n",
    "\n",
    "    def predict(self, point):\n",
    "        # Tính khoảng cách Euclidean từ điểm đến tất cả các điểm trong tập huấn luyện\n",
    "        distances = np.linalg.norm(self.data - point, axis=1)\n",
    "        # Lấy chỉ số của k điểm gần nhất\n",
    "        nearest_indices = np.argsort(distances)[:self.k]\n",
    "        # Lấy nhãn của các điểm gần nhất\n",
    "        nearest_labels = self.labels[nearest_indices]\n",
    "        # Trả về nhãn phổ biến nhất trong số các nhãn gần nhất\n",
    "        return np.bincount(nearest_labels).argmax()\n",
    "\n",
    "    def score(self, test_data, test_labels):\n",
    "        # Dự đoán nhãn cho tất cả các điểm trong tập kiểm tra\n",
    "        predictions = [self.predict(point) for point in test_data]\n",
    "        return np.mean(predictions == test_labels)"
   ],
   "id": "c54cbdd679e32d18",
   "outputs": [],
   "execution_count": 2
  },
  {
   "metadata": {},
   "cell_type": "markdown",
   "source": "- dataset",
   "id": "af015a080ae646ab"
  },
  {
   "metadata": {
    "ExecuteTime": {
     "end_time": "2025-08-17T11:39:02.001287Z",
     "start_time": "2025-08-17T11:39:01.982345Z"
    }
   },
   "cell_type": "code",
   "source": [
    "df = pd.read_csv('data/iris.csv')\n",
    "df.drop('Id', axis=1, inplace=True)\n",
    "X = df.drop('Species', axis=1).values\n",
    "y = df['Species'].values\n",
    "y = LabelEncoder().fit_transform(y) # encode to number\n",
    "X_train, X_test, y_train, y_test = train_test_split(X, y, test_size=0.2, random_state=42)"
   ],
   "id": "3808a58b75d37b14",
   "outputs": [],
   "execution_count": 3
  },
  {
   "metadata": {},
   "cell_type": "markdown",
   "source": "* predict",
   "id": "c9d3d57047ca56dd"
  },
  {
   "metadata": {
    "ExecuteTime": {
     "end_time": "2025-08-17T11:39:02.063979Z",
     "start_time": "2025-08-17T11:39:02.054980Z"
    }
   },
   "cell_type": "code",
   "source": [
    "model = KNearestNeighbors(k=10)\n",
    "model.fit(X_train, y_train)\n",
    "accuracy = model.score(X_test, y_test)\n",
    "print(f\"Model accuracy: {accuracy * 100:.2f}%\")"
   ],
   "id": "486584548de37e65",
   "outputs": [
    {
     "name": "stdout",
     "output_type": "stream",
     "text": [
      "Model accuracy: 100.00%\n"
     ]
    }
   ],
   "execution_count": 4
  },
  {
   "metadata": {},
   "cell_type": "markdown",
   "source": "### KNN from sklearn",
   "id": "cd80ed55e33428d"
  },
  {
   "metadata": {
    "ExecuteTime": {
     "end_time": "2025-08-17T11:39:02.257930Z",
     "start_time": "2025-08-17T11:39:02.124391Z"
    }
   },
   "cell_type": "code",
   "source": "from sklearn.neighbors import KNeighborsClassifier",
   "id": "4226024e824e91f3",
   "outputs": [],
   "execution_count": 5
  },
  {
   "metadata": {
    "ExecuteTime": {
     "end_time": "2025-08-17T11:39:02.346288Z",
     "start_time": "2025-08-17T11:39:02.316740Z"
    }
   },
   "cell_type": "code",
   "source": [
    "model = KNeighborsClassifier(n_neighbors=10, p = 2)\n",
    "model.fit(X_train, y_train)\n",
    "accuracy = model.score(X_test, y_test)\n",
    "print(f\"Model accuracy using sklearn: {accuracy * 100:.2f}%\")"
   ],
   "id": "3be514ae72367f4",
   "outputs": [
    {
     "name": "stdout",
     "output_type": "stream",
     "text": [
      "Model accuracy using sklearn: 100.00%\n"
     ]
    }
   ],
   "execution_count": 6
  }
 ],
 "metadata": {
  "kernelspec": {
   "display_name": "Python 3",
   "language": "python",
   "name": "python3"
  },
  "language_info": {
   "codemirror_mode": {
    "name": "ipython",
    "version": 2
   },
   "file_extension": ".py",
   "mimetype": "text/x-python",
   "name": "python",
   "nbconvert_exporter": "python",
   "pygments_lexer": "ipython2",
   "version": "2.7.6"
  }
 },
 "nbformat": 4,
 "nbformat_minor": 5
}
