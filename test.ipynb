{
 "cells": [
  {
   "metadata": {
    "jupyter": {
     "is_executing": true
    },
    "ExecuteTime": {
     "start_time": "2025-08-14T05:57:40.358143Z"
    }
   },
   "cell_type": "code",
   "source": [
    "import numpy as np\n",
    "from collections import Counter\n",
    "from sklearn.datasets import fetch_openml\n",
    "from sklearn.model_selection import train_test_split\n",
    "from sklearn.metrics import accuracy_score\n",
    "import pandas as pd\n",
    "\n",
    "# Hàm tính khoảng cách Euclidean\n",
    "def euclidean_distance(point1, point2):\n",
    "    return np.sqrt(np.sum((np.array(point1) - np.array(point2))**2))\n",
    "\n",
    "# Hàm KNN cho 1 điểm test\n",
    "def knn_predict(training_data, training_labels, test_point, k):\n",
    "    distances = []\n",
    "    for i in range(len(training_data)):\n",
    "        dist = euclidean_distance(test_point, training_data[i])\n",
    "        distances.append((dist, training_labels[i]))\n",
    "    distances.sort(key=lambda x: x[0])\n",
    "    k_nearest_labels = [label for _, label in distances[:k]]\n",
    "    return Counter(k_nearest_labels).most_common(1)[0][0]\n",
    "\n",
    "# Tải dataset MNIST\n",
    "print(\"Downloading MNIST dataset...\")\n",
    "mnist = fetch_openml('mnist_784', version=1, as_frame=False)\n",
    "X = mnist.data\n",
    "y = mnist.target.astype(int)\n",
    "\n",
    "# Giảm kích thước dataset để chạy nhanh (ví dụ: lấy 5000 mẫu train, 1000 mẫu test)\n",
    "X_train, X_test, y_train, y_test = train_test_split(X, y, test_size=10000, train_size=60000)\n",
    "\n",
    "# Chuẩn hóa dữ liệu về [0, 1]\n",
    "X_train = X_train / 255.0\n",
    "X_test = X_test / 255.0\n",
    "\n",
    "# Dự đoán cho toàn bộ tập test\n",
    "print(\"Running KNN...\")\n",
    "y_pred = [knn_predict(X_train, y_train, x, k=12) for x in X_test]\n",
    "\n",
    "# Độ chính xác\n",
    "acc = accuracy_score(y_test, y_pred)\n",
    "print(\"Accuracy on MNIST subset: %.2f%%\" % (acc * 100))\n"
   ],
   "id": "4168071d20b132da",
   "outputs": [
    {
     "name": "stdout",
     "output_type": "stream",
     "text": [
      "Downloading MNIST dataset...\n",
      "Running KNN...\n"
     ]
    }
   ],
   "execution_count": null
  }
 ],
 "metadata": {
  "kernelspec": {
   "display_name": "Python 3",
   "language": "python",
   "name": "python3"
  },
  "language_info": {
   "codemirror_mode": {
    "name": "ipython",
    "version": 2
   },
   "file_extension": ".py",
   "mimetype": "text/x-python",
   "name": "python",
   "nbconvert_exporter": "python",
   "pygments_lexer": "ipython2",
   "version": "2.7.6"
  }
 },
 "nbformat": 4,
 "nbformat_minor": 5
}
