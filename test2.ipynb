{
 "cells": [
  {
   "metadata": {
    "ExecuteTime": {
     "end_time": "2025-08-14T06:09:42.334248Z",
     "start_time": "2025-08-14T05:57:34.853728Z"
    }
   },
   "cell_type": "code",
   "source": [
    "from sklearn.datasets import fetch_openml\n",
    "from sklearn.model_selection import train_test_split\n",
    "from sklearn.preprocessing import StandardScaler\n",
    "from sklearn.neighbors import KNeighborsClassifier\n",
    "from sklearn.metrics import accuracy_score\n",
    "import time\n",
    "\n",
    "# 1. Tải MNIST từ openml\n",
    "print(\"Downloading MNIST dataset...\")\n",
    "mnist = fetch_openml('mnist_784', version=1, as_frame=False)\n",
    "X = mnist.data\n",
    "y = mnist.target.astype(int)\n",
    "\n",
    "# 2. Giảm kích thước để chạy nhanh (5000 train, 1000 test)\n",
    "X_train, X_test, y_train, y_test = train_test_split(\n",
    "    X, y, train_size=60000, test_size=10000\n",
    ")\n",
    "\n",
    "# 3. Chuẩn hóa dữ liệu\n",
    "scaler = StandardScaler()\n",
    "X_train = scaler.fit_transform(X_train)\n",
    "X_test = scaler.transform(X_test)\n",
    "\n",
    "# 4. Huấn luyện KNN với k-D tree\n",
    "knn = KNeighborsClassifier(\n",
    "    n_neighbors=12,\n",
    "    algorithm='kd_tree',  # Thay brute-force bằng k-D tree\n",
    "    p=2                   # Khoảng cách Euclidean\n",
    ")\n",
    "\n",
    "start_time = time.time()\n",
    "knn.fit(X_train, y_train)\n",
    "train_time = time.time() - start_time\n",
    "\n",
    "# 5. Dự đoán\n",
    "start_time = time.time()\n",
    "y_pred = knn.predict(X_test)\n",
    "predict_time = time.time() - start_time\n",
    "\n",
    "# 6. Đánh giá\n",
    "accuracy = accuracy_score(y_test, y_pred)\n",
    "print(f\"Accuracy: {accuracy*100:.2f}%\")\n",
    "print(f\"Training time: {train_time:.4f} seconds\")\n",
    "print(f\"Prediction time: {predict_time:.4f} seconds\")\n"
   ],
   "id": "6ac68906f2628231",
   "outputs": [
    {
     "name": "stdout",
     "output_type": "stream",
     "text": [
      "Downloading MNIST dataset...\n",
      "Accuracy: 94.26%\n",
      "Training time: 9.3904 seconds\n",
      "Prediction time: 709.6422 seconds\n"
     ]
    }
   ],
   "execution_count": 1
  }
 ],
 "metadata": {
  "kernelspec": {
   "display_name": "Python 3",
   "language": "python",
   "name": "python3"
  },
  "language_info": {
   "codemirror_mode": {
    "name": "ipython",
    "version": 2
   },
   "file_extension": ".py",
   "mimetype": "text/x-python",
   "name": "python",
   "nbconvert_exporter": "python",
   "pygments_lexer": "ipython2",
   "version": "2.7.6"
  }
 },
 "nbformat": 4,
 "nbformat_minor": 5
}
