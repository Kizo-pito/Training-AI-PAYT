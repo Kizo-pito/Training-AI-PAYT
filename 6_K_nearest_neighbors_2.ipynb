{
 "cells": [
  {
   "cell_type": "code",
   "id": "initial_id",
   "metadata": {
    "collapsed": true,
    "ExecuteTime": {
     "end_time": "2025-08-14T04:39:21.373743Z",
     "start_time": "2025-08-14T04:39:20.384722Z"
    }
   },
   "source": [
    "from sklearn import neighbors, datasets\n",
    "import numpy as np\n",
    "from sklearn.model_selection import train_test_split\n",
    "from sklearn.metrics import accuracy_score\n",
    "from sklearn.preprocessing import StandardScaler\n",
    "import time"
   ],
   "outputs": [],
   "execution_count": 1
  },
  {
   "metadata": {
    "ExecuteTime": {
     "end_time": "2025-08-14T04:39:21.555576Z",
     "start_time": "2025-08-14T04:39:21.548489Z"
    }
   },
   "cell_type": "code",
   "source": [
    "# Load dữ liệu iris\n",
    "df = datasets.load_iris()\n",
    "X = df.data\n",
    "y = df.target\n",
    "print('Number of classes: %d' % len(np.unique(y)))\n",
    "print('Number of data points: %d' % len(y))\n"
   ],
   "id": "acc14b35117b6c10",
   "outputs": [
    {
     "name": "stdout",
     "output_type": "stream",
     "text": [
      "Number of classes: 3\n",
      "Number of data points: 150\n"
     ]
    }
   ],
   "execution_count": 2
  },
  {
   "metadata": {
    "ExecuteTime": {
     "end_time": "2025-08-14T04:39:21.570350Z",
     "start_time": "2025-08-14T04:39:21.566996Z"
    }
   },
   "cell_type": "code",
   "source": [
    "# Chia train/test\n",
    "X_train, X_test, y_train, y_test = train_test_split(X, y, test_size=0.2)"
   ],
   "id": "975c6aa0c6379efd",
   "outputs": [],
   "execution_count": 3
  },
  {
   "metadata": {
    "ExecuteTime": {
     "end_time": "2025-08-14T04:39:21.612204Z",
     "start_time": "2025-08-14T04:39:21.607591Z"
    }
   },
   "cell_type": "code",
   "source": [
    "# Chuẩn hóa dữ liệu (giúp KNN hoạt động tốt hơn)\n",
    "scaler = StandardScaler()\n",
    "X_train = scaler.fit_transform(X_train)\n",
    "X_test = scaler.transform(X_test)"
   ],
   "id": "3a6e8ad9244b7af0",
   "outputs": [],
   "execution_count": 4
  },
  {
   "metadata": {
    "ExecuteTime": {
     "end_time": "2025-08-14T04:39:21.638492Z",
     "start_time": "2025-08-14T04:39:21.635433Z"
    }
   },
   "cell_type": "code",
   "source": [
    "# KNN với k-D tree\n",
    "model = neighbors.KNeighborsClassifier(\n",
    "    n_neighbors=10,\n",
    "    p=2,                   # p=2: khoảng cách Euclidean\n",
    "    algorithm='kd_tree'    # Sử dụng k-D tree\n",
    ")"
   ],
   "id": "a2217e346f5db02",
   "outputs": [],
   "execution_count": 5
  },
  {
   "metadata": {
    "ExecuteTime": {
     "end_time": "2025-08-14T04:39:21.666713Z",
     "start_time": "2025-08-14T04:39:21.659332Z"
    }
   },
   "cell_type": "code",
   "source": [
    "t0 = time.time()\n",
    "model.fit(X_train, y_train)\n",
    "y_pred = model.predict(X_test)\n",
    "t1 = time.time()\n",
    "print(t1 - t0)"
   ],
   "id": "40d38adf737a7351",
   "outputs": [
    {
     "name": "stdout",
     "output_type": "stream",
     "text": [
      "0.003332376480102539\n"
     ]
    }
   ],
   "execution_count": 6
  },
  {
   "metadata": {
    "ExecuteTime": {
     "end_time": "2025-08-14T04:39:21.682981Z",
     "start_time": "2025-08-14T04:39:21.678443Z"
    }
   },
   "cell_type": "code",
   "source": "print(\"Accuracy of 1NN with k-D Tree: %.2f %%\" % (100 * accuracy_score(y_test, y_pred)))\n",
   "id": "ff5a22568f26c956",
   "outputs": [
    {
     "name": "stdout",
     "output_type": "stream",
     "text": [
      "Accuracy of 1NN with k-D Tree: 90.00 %\n"
     ]
    }
   ],
   "execution_count": 7
  },
  {
   "metadata": {
    "ExecuteTime": {
     "end_time": "2025-08-14T04:39:21.729828Z",
     "start_time": "2025-08-14T04:39:21.720816Z"
    }
   },
   "cell_type": "code",
   "source": [
    "t0_ = time.time()\n",
    "model = neighbors.KNeighborsClassifier(n_neighbors = 10, p = 2)\n",
    "model.fit(X_train, y_train)\n",
    "y_pred = model.predict(X_test)\n",
    "t1_ = time.time()\n",
    "print(t1_ - t0_)\n",
    "print (\"Accuracy of 1NN: %.2f %%\" %(100*accuracy_score(y_test, y_pred)))"
   ],
   "id": "af0b57bcce38cfb4",
   "outputs": [
    {
     "name": "stdout",
     "output_type": "stream",
     "text": [
      "0.003337860107421875\n",
      "Accuracy of 1NN: 90.00 %\n"
     ]
    }
   ],
   "execution_count": 8
  },
  {
   "metadata": {
    "ExecuteTime": {
     "end_time": "2025-08-14T04:39:21.765745Z",
     "start_time": "2025-08-14T04:39:21.763265Z"
    }
   },
   "cell_type": "code",
   "source": "",
   "id": "6c2781ca7baca27b",
   "outputs": [],
   "execution_count": null
  }
 ],
 "metadata": {
  "kernelspec": {
   "display_name": "Python 3",
   "language": "python",
   "name": "python3"
  },
  "language_info": {
   "codemirror_mode": {
    "name": "ipython",
    "version": 2
   },
   "file_extension": ".py",
   "mimetype": "text/x-python",
   "name": "python",
   "nbconvert_exporter": "python",
   "pygments_lexer": "ipython2",
   "version": "2.7.6"
  }
 },
 "nbformat": 4,
 "nbformat_minor": 5
}
